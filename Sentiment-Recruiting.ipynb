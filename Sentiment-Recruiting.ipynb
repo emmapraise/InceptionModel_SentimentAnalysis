{
 "cells": [
  {
   "cell_type": "markdown",
   "metadata": {},
   "source": [
    "# Sentiment Analysis "
   ]
  },
  {
   "cell_type": "markdown",
   "metadata": {},
   "source": [
    "The identification of sentiment in text is an important field of study, it usually involves detecting whether a piece of text expresses a POSITIVE, a NEGATIVE, or a NEUTRAL sentiment; the sentiment can be general or about a specific topic, e.g., a person, a product, or an event.\n",
    "\n",
    "Sentiment analysis has been part of the international workshop on Semantic Evaluation ([SemEval](https://en.wikipedia.org/wiki/SemEval)) for multiple years ([2016](http://anthology.aclweb.org/S/S16/S16-1001.pdf), [2017](http://www.aclweb.org/anthology/S17-2088)).\n",
    "\n",
    "You task is to implement a neural network that predicts sentiment (POSITIVE, NEGATIVE, NEUTRAL) for a given text.\n",
    "\n",
    "In the following sections, we provide the dataset preperation, a basic model, training and evaluation.\n"
   ]
  },
  {
   "cell_type": "markdown",
   "metadata": {},
   "source": [
    "## Dataset"
   ]
  },
  {
   "cell_type": "markdown",
   "metadata": {},
   "source": [
    "The dataset we are using to train and test our model is generated from German Amazon reviews."
   ]
  },
  {
   "cell_type": "markdown",
   "metadata": {},
   "source": [
    "The input is the text of the review, and the network will try to predict the star ratings."
   ]
  },
  {
   "cell_type": "markdown",
   "metadata": {},
   "source": [
    "We include only reviews with 1,3 and 5 star ratings, where: \n",
    "* 1 is considered negative\n",
    "* 3 is considered neutral\n",
    "* 5 is considered positive\n",
    "\n",
    "All reviews with rating 2,4 are not included in our dataset.\n"
   ]
  },
  {
   "cell_type": "markdown",
   "metadata": {},
   "source": [
    "### Loading the data"
   ]
  },
  {
   "cell_type": "markdown",
   "metadata": {},
   "source": [
    "We already created a python script that returns amazon reviews whose star ratings are either 1,3 or 5."
   ]
  },
  {
   "cell_type": "code",
   "execution_count": 1,
   "metadata": {},
   "outputs": [
    {
     "name": "stdout",
     "output_type": "stream",
     "text": [
      "Total number of reviews: 130762\n",
      "Counter({'5': 97593, '1': 17476, '3': 15693})\n"
     ]
    }
   ],
   "source": [
    "from reviews import get_reviews\n",
    "titles,bodies,ratings,labels,_ = get_reviews()"
   ]
  },
  {
   "cell_type": "markdown",
   "metadata": {},
   "source": [
    "The number of reviews is originally not equally distributed among the ratings, so we downsampled the reviews so that there is the same number for each rating. The discarded reviews are picked at random."
   ]
  },
  {
   "cell_type": "code",
   "execution_count": 2,
   "metadata": {},
   "outputs": [
    {
     "data": {
      "text/plain": [
       "Counter({1: 15693, 3: 15693, 5: 15693})"
      ]
     },
     "execution_count": 2,
     "metadata": {},
     "output_type": "execute_result"
    }
   ],
   "source": [
    "from collections import Counter\n",
    "Counter(ratings)"
   ]
  },
  {
   "cell_type": "markdown",
   "metadata": {},
   "source": [
    "#### Examples"
   ]
  },
  {
   "cell_type": "markdown",
   "metadata": {},
   "source": [
    "Printing out some data examples:"
   ]
  },
  {
   "cell_type": "code",
   "execution_count": 3,
   "metadata": {},
   "outputs": [
    {
     "name": "stdout",
     "output_type": "stream",
     "text": [
      "body:\n",
      " Ich teste ja gerne mal etwas, was mit Fotografie zu tun hat- diese kleine Spielerei fürs Handy musste ich einfach ausprobieren. Und ich habe es nicht bereut!\n",
      "Was ich schon mal richtig toll fand, ist die Verpackung. Kein Plastikmüll! Die Linsen waren in einem Samtsäckchen verpackt und alles in einer Papiertüte verstaut. Außerdem kamen die Linsen schon einen Tag nach meiner Bestellung an. Schon mal top!\n",
      "Die kleinen Linsen lassen sich spielend leicht auswechseln. Man schraubt sie einfach auf die Klammer und setzt diese auf das Kameraauge des Handys. So lassen sich ganz schnell, ohne Bearbeitungsprogramm von einem Motiv verschiedene Optionen zaubern. Eine wirklich tolle Spielerei für den Hobbie- Fotograf. Ich habe euch ein paar Fotos geschossen, damit ihr euch ein Bild von der Wirkung der Linsen machen könnt. Von mir hat das Set die volle Kaufempfehlung. Preis- Leistung =Top!\n",
      "rating: 5\n",
      "=========================================================================================\n",
      "body:\n",
      " Kam dreiviertelt geladen an wurde geleert und geht nach mehreren erfolglosen Ladeversuchen zurück.\n",
      "Ich hatte nicht mit einer Einwegbatterie gerechnet\n",
      "keine Empfehlung\n",
      "rating: 1\n",
      "=========================================================================================\n",
      "body:\n",
      " Wir haben den Staubsauger im Oktober 2016 gekauft, da wir mit dem Vorgänger gute Erfahrungen gemacht haben und dieser sehr lange gehalten hat.\n",
      "Allerdings ist dieser Staubsauger mehr als enttäuschend. Er ist ständig verstopft und die Saugkraft lässt mehr als zu wünschen übrig. Vor jedem Sauggang muss ich den Sauger komplett leeren, Filter reinigen etc., damit ich halbwegs die Krümmel eingesaugt bekomme. Ansonsten schiebt man den Dreck nur hin und her.\n",
      "Leider kann man den Verkäufer auch nicht mehr kontaktieren und reklamieren.\n",
      "Das war wohl unser letzter Dirt Devil-Kauf. Schade.\n",
      "rating: 1\n",
      "=========================================================================================\n",
      "body:\n",
      " Die Folie bleibt wirklich schön auf dem Wasser treiben.\n",
      "Aufpassen wenn der Pool eine kleine Schieflage hat! Dann werden die Fast Set Pools Oval. Also gut messen und eventuell eine Nummer größer bestellen und dann oval ausschneiden.\n",
      "rating: 5\n",
      "=========================================================================================\n",
      "body:\n",
      " \"Schicksalsbringer\" war bereits lange vor dem Erscheinungstag in der Bloggerwelt in aller Munde, sodass ich großes Interesse an der Geschichte hatte und diese bereits vor dem Erscheinungstag lesen durfte. Hier hatte ich hohe Erwartungen und habe mich auf eine spannende und unterhaltsame Geschichte gefreut. Diese habe ich letztendlich auch erhalten, obwohl ich zugeben muss, dass die Geschichte leider nicht ohne Schwächen auskommt.\n",
      "Der Schreibstil hat mir an sich gut gefallen. Die Geschichte liest sich durchweg flüssig und leicht. Die Idee, wie man das Schicksal anhand einer Münze beeinflussen kann, ist mehr als gelungen und hat direkt mein Interesse geweckt. Das einzige große Problem, das ich allerdings mit der Geschichte habe, sind die Charaktere, mit denen ich leider allesamt absolut nicht warm wurde, da mir an ihnen die Besonderheit gefehlt hat.\n",
      "Kiera ist zwar an sich ein toughes und sympathisches Mädchen, allerdings gibt es bereits zig andere Mädchen in Jugendbüchern, die genau wie sie ausgearbeitet wurden. Dann gibt es da noch ihren besten Freund Cody, mit dem sie aufgewachsen ist und der für sie wie ein Bruder ist. Selbstverständlich geht es ihm da anders und er himmelt Kiera an, was sie - natürlich! - nicht bemerkt. Auch ihre anderen Freunde sowie Hayden und Phoenix - die selbstverständlich beide unverschämt gut aussehen! - sind leider zu klischeebeladen und absolut austauschbar, was dafür gesorgt hat, dass ich mit ihnen leider nicht so mitfiebern und mitfühlen konnte, wie ich es mir gewünscht habe.\n",
      "Dennoch ist \"Schicksalsbringer\" alles andere als schlecht und überzeugt mit tollen Ideen, unterhaltsamen Momenten einem gut ausgearbeiteten Plot, der mich zum Teil auch überraschen konnte, sodass ich definitiv wissen möchte, wie es mit der Geschichte und der Beeinflussung des Schicksals weitergehen wird. Dazu hoffe ich im zweiten Band auf eine Weiterentwicklung aller Charaktere.\n",
      "Das Cover ist wunderschön und ein absoluter Hingucker, den man einfach gerne im Regal stehen hat. Das Mädchen, das Kiera darstellen soll, ist zudem gelungen und passt perfekt zu ihr. Die Kurzbeschreibung hat mich ebenfalls direkt angesprochen, sodass ich dem Buch gerne eine Chance gegeben habe.\n",
      "Kurz gesagt: Obwohl mich \"Schicksalsbringer\" mit vielen Ideen überzeugen und unterhalten konnte, bin ich letztendlich doch ein wenig enttäuscht, da ich mit den Figuren absolut nicht warm wurde und somit nicht so mitfiebern konnte, wie ich es mir zuvor gewünscht habe. Dennoch fand ich die Geschichte rund um das Schicksal so interessant, dass ich auch zukünftig dem zweiten Band \"Schicksalsjäger\" eine Chance geben möchte.\n",
      "rating: 3\n",
      "=========================================================================================\n"
     ]
    }
   ],
   "source": [
    "for idx in range(40,45):\n",
    "    print(\"body:\\n %s\" % bodies[idx])\n",
    "    print(\"rating: %d\" % ratings[idx])\n",
    "    print(\"=========================================================================================\")"
   ]
  },
  {
   "cell_type": "markdown",
   "metadata": {},
   "source": [
    "### Word Embeddings and Features"
   ]
  },
  {
   "cell_type": "markdown",
   "metadata": {},
   "source": [
    "To convert text to vector space, we use [word embeddings](https://en.wikipedia.org/wiki/Word_embedding) where words from the vocabulary are mapped to vectors of real numbers.\n",
    "\n",
    "Multiple versions of the word embeddings have already been implemented, we use Facebook's [FastText](https://research.fb.com/fasttext/) library.\n",
    "\n",
    "We trained our word embeddings on German wikipedia."
   ]
  },
  {
   "cell_type": "code",
   "execution_count": 4,
   "metadata": {},
   "outputs": [],
   "source": [
    "import numpy as np\n",
    "import fasttext"
   ]
  },
  {
   "cell_type": "markdown",
   "metadata": {},
   "source": [
    "Loading the Fasttext model (the following code might take some time to run, because the model is big)"
   ]
  },
  {
   "cell_type": "code",
   "execution_count": 5,
   "metadata": {},
   "outputs": [],
   "source": [
    "fasttext_model_path = '/data/detext_tuning_0041.bin'\n",
    "fasttext_model = fasttext.load_model(fasttext_model_path, encoding='utf-8')"
   ]
  },
  {
   "cell_type": "markdown",
   "metadata": {},
   "source": [
    "### Question 1\n",
    "\n",
    "What other word embedding models can we use and what are the advantages of using Fasttext?\n",
    "\n",
    "Please write your answer in the next cell:"
   ]
  },
  {
   "cell_type": "raw",
   "metadata": {
    "collapsed": true
   },
   "source": [
    "Word2Vec, GloVe\n",
    "\n",
    "Fasttext is better as it divides the word in smaller parts (called n-grams), and then generate the model as per those n-grams.\n",
    "This help in cases of those words which are rarely used, OR are not present in training set. As the probabilty of n-grams \n",
    "repeating in vocab increases as compared to that rare word."
   ]
  },
  {
   "cell_type": "markdown",
   "metadata": {},
   "source": [
    "Next, we convert all text in the dataset into sequences of word indices. A \"word index\" would simply be an integer ID for the word. We will truncate the sequences to a maximum length of 200 words.\n",
    "If sequences are shorter than 200, then we need to pad them with zeros"
   ]
  },
  {
   "cell_type": "code",
   "execution_count": 6,
   "metadata": {},
   "outputs": [],
   "source": [
    "MAX_SEQUENCE_LENGTH = 200\n",
    "EMBEDDING_DIM = fasttext_model.dim"
   ]
  },
  {
   "cell_type": "code",
   "execution_count": 7,
   "metadata": {},
   "outputs": [
    {
     "name": "stdout",
     "output_type": "stream",
     "text": [
      "100\n"
     ]
    }
   ],
   "source": [
    "print(EMBEDDING_DIM)"
   ]
  },
  {
   "cell_type": "code",
   "execution_count": 8,
   "metadata": {},
   "outputs": [
    {
     "name": "stderr",
     "output_type": "stream",
     "text": [
      "Using TensorFlow backend.\n"
     ]
    },
    {
     "name": "stdout",
     "output_type": "stream",
     "text": [
      "312421 unique tokens in the vocabulary\n"
     ]
    }
   ],
   "source": [
    "from keras.preprocessing.sequence import pad_sequences \n",
    "\n",
    "vocabulary = dict()\n",
    "inverse_vocabulary = ['PADDING']\n",
    "sequences = []\n",
    "for text in bodies:\n",
    "    text = text.split()\n",
    "    text_sequence = []\n",
    "    for word in text:\n",
    "        if word not in vocabulary:\n",
    "            vocabulary[word] = len(inverse_vocabulary)\n",
    "            text_sequence.append(len(inverse_vocabulary))\n",
    "            inverse_vocabulary.append(word)\n",
    "        else:\n",
    "            text_sequence.append(vocabulary[word])\n",
    "    sequences.append(text_sequence)\n",
    "print(\"%d unique tokens in the vocabulary\" %len(vocabulary))\n",
    "\n",
    "bodies_seq = pad_sequences(sequences, maxlen=MAX_SEQUENCE_LENGTH)"
   ]
  },
  {
   "cell_type": "code",
   "execution_count": 9,
   "metadata": {},
   "outputs": [
    {
     "name": "stdout",
     "output_type": "stream",
     "text": [
      "('Also von sich aus ist der Smartphon und die Verarbeitung sind gut,  sogar sehr gut.\\nSchreiben aber  mit dem ist  absolute Horror.', 'Nach den gelesen Rezensionen, war ich doch nach sehen des Films etwas enttäuscht. Ich kenne das Original nicht, aber mir kommt diese Verfilmung doch sehr oberflächlich daher. Man hätte aus diesem Stoff doch mehr herausholen können. Die verschiedenen Charakter der Brüder und auch was der Krieg aus einem Menschen machen kann, hätte man noch intensiver darstellen können. Die Schauspieler fand ich alle sehr gut. Kann ihn zwar empfehlen, aber finde ihn in den Rezensionen überbewertet.')\n"
     ]
    }
   ],
   "source": [
    "print(bodies[:2])"
   ]
  },
  {
   "cell_type": "code",
   "execution_count": 10,
   "metadata": {},
   "outputs": [],
   "source": [
    "import re\n",
    "def clean_text(text):\n",
    "    '''Clean text by removing unnecessary characters and altering the format of words.'''\n",
    "\n",
    "    text = text.lower()\n",
    "    \n",
    "    text = re.sub(r\"\\n\", \"\",  text)\n",
    "    text = re.sub(r\"[-()]\", \"\", text)\n",
    "    text = re.sub(r\"\\.\", \" .\", text)\n",
    "    text = re.sub(r\"\\!\", \" !\", text)\n",
    "    text = re.sub(r\"\\?\", \" ?\", text)\n",
    "    text = re.sub(r\"\\,\", \" ,\", text)\n",
    "    text = re.sub(r\"i'm\", \"i am\", text)\n",
    "    text = re.sub(r\"he's\", \"he is\", text)\n",
    "    text = re.sub(r\"she's\", \"she is\", text)\n",
    "    text = re.sub(r\"it's\", \"it is\", text)\n",
    "    text = re.sub(r\"that's\", \"that is\", text)\n",
    "    text = re.sub(r\"what's\", \"that is\", text)\n",
    "    text = re.sub(r\"\\'ll\", \" will\", text)\n",
    "    text = re.sub(r\"\\'re\", \" are\", text)\n",
    "    text = re.sub(r\"won't\", \"will not\", text)\n",
    "    text = re.sub(r\"can't\", \"cannot\", text)\n",
    "    text = re.sub(r\"n't\", \" not\", text)\n",
    "    text = re.sub(r\"n'\", \"ng\", text)\n",
    "    text = re.sub(r\"ohh\", \"oh\", text)\n",
    "    text = re.sub(r\"ohhh\", \"oh\", text)\n",
    "    text = re.sub(r\"ohhhh\", \"oh\", text)\n",
    "    text = re.sub(r\"ohhhhh\", \"oh\", text)\n",
    "    text = re.sub(r\"ohhhhhh\", \"oh\", text)\n",
    "    text = re.sub(r\"ahh\", \"ah\", text)\n",
    "    \n",
    "    return text"
   ]
  },
  {
   "cell_type": "code",
   "execution_count": 11,
   "metadata": {},
   "outputs": [],
   "source": [
    "bodies2 = []\n",
    "for line in bodies:\n",
    "    bodies2.append(clean_text(line))"
   ]
  },
  {
   "cell_type": "code",
   "execution_count": 12,
   "metadata": {},
   "outputs": [],
   "source": [
    "bodies=bodies2"
   ]
  },
  {
   "cell_type": "code",
   "execution_count": 13,
   "metadata": {},
   "outputs": [
    {
     "name": "stdout",
     "output_type": "stream",
     "text": [
      "210605 unique tokens in the vocabulary\n"
     ]
    }
   ],
   "source": [
    "from keras.preprocessing.sequence import pad_sequences \n",
    "\n",
    "vocabulary = dict()\n",
    "inverse_vocabulary = ['PADDING']\n",
    "sequences = []\n",
    "for text in bodies:\n",
    "    text = text.split()\n",
    "    text_sequence = []\n",
    "    for word in text:\n",
    "        if word not in vocabulary:\n",
    "            vocabulary[word] = len(inverse_vocabulary)\n",
    "            text_sequence.append(len(inverse_vocabulary))\n",
    "            inverse_vocabulary.append(word)\n",
    "        else:\n",
    "            text_sequence.append(vocabulary[word])\n",
    "    sequences.append(text_sequence)\n",
    "print(\"%d unique tokens in the vocabulary\" %len(vocabulary))\n",
    "\n",
    "bodies_seq = pad_sequences(sequences, maxlen=MAX_SEQUENCE_LENGTH)"
   ]
  },
  {
   "cell_type": "code",
   "execution_count": 14,
   "metadata": {},
   "outputs": [
    {
     "name": "stdout",
     "output_type": "stream",
     "text": [
      "['also von sich aus ist der smartphon und die verarbeitung sind gut ,  sogar sehr gut .schreiben aber  mit dem ist  absolute horror .', 'nach den gelesen rezensionen , war ich doch nach sehen des films etwas enttäuscht . ich kenne das original nicht , aber mir kommt diese verfilmung doch sehr oberflächlich daher . man hätte aus diesem stoff doch mehr herausholen können . die verschiedenen charakter der brüder und auch was der krieg aus einem menschen machen kann , hätte man noch intensiver darstellen können . die schauspieler fand ich alle sehr gut . kann ihn zwar empfehlen , aber finde ihn in den rezensionen überbewertet .']\n"
     ]
    }
   ],
   "source": [
    "print(bodies[:2])"
   ]
  },
  {
   "cell_type": "markdown",
   "metadata": {},
   "source": [
    "### Question 2\n",
    "\n",
    "As you can see, there is a huge number of unique tokens extracted from the reviews. Can you think of any preprocessing steps to make the vocabulary smaller?\n",
    "\n",
    "Edit the code block above to add more preprocessing steps.\n"
   ]
  },
  {
   "cell_type": "markdown",
   "metadata": {},
   "source": [
    "### Splitting into Train/Val/Test Sets"
   ]
  },
  {
   "cell_type": "markdown",
   "metadata": {},
   "source": [
    "Split the dataset into 3 sets: train, validation and test.\n",
    "\n",
    "We use ```sklearn.model_selection.train_test_split``` twice. First to split to train, val and then split val again into val and test. "
   ]
  },
  {
   "cell_type": "code",
   "execution_count": 15,
   "metadata": {
    "scrolled": false
   },
   "outputs": [
    {
     "name": "stdout",
     "output_type": "stream",
     "text": [
      "Train: 42371 examples\n",
      "Val: 4237 examples\n",
      "Test: 471 examples\n"
     ]
    }
   ],
   "source": [
    "from sklearn.model_selection import train_test_split\n",
    "\n",
    "data = {\n",
    "    'train': {},\n",
    "    'val': {},\n",
    "    'test': {},\n",
    "}\n",
    "\n",
    "(data['train']['text'],\n",
    " data['val']['text'],\n",
    " data['train']['y'],\n",
    " data['val']['y']\n",
    ") = train_test_split(bodies_seq, labels, test_size=0.1)\n",
    "\n",
    "(data['val']['text'],\n",
    " data['test']['text'],\n",
    " data['val']['y'],\n",
    " data['test']['y']\n",
    ") = train_test_split(data['val']['text'], data['val']['y'], test_size=0.1)\n",
    "\n",
    "print('Train: {} examples'.format(len(data['train']['y'])))\n",
    "print('Val: {} examples'.format(len(data['val']['y'])))\n",
    "print('Test: {} examples'.format(len(data['test']['y'])))"
   ]
  },
  {
   "cell_type": "markdown",
   "metadata": {},
   "source": [
    "## Neural Network"
   ]
  },
  {
   "cell_type": "code",
   "execution_count": 16,
   "metadata": {},
   "outputs": [],
   "source": [
    "import keras\n",
    "from keras import layers\n",
    "from keras import backend as K\n",
    "from keras_tqdm import TQDMNotebookCallback\n",
    "from IPython import display"
   ]
  },
  {
   "cell_type": "markdown",
   "metadata": {},
   "source": [
    "### The Embedding layer"
   ]
  },
  {
   "cell_type": "markdown",
   "metadata": {},
   "source": [
    "Prepare an \"embedding matrix\" which will contain at index i the embedding vector for the word of index i in our word index."
   ]
  },
  {
   "cell_type": "code",
   "execution_count": 17,
   "metadata": {},
   "outputs": [],
   "source": [
    "embedding_matrix = np.zeros((len(vocabulary) + 1, EMBEDDING_DIM)) \n",
    "for word, i in vocabulary.items():\n",
    "    if word in fasttext_model:\n",
    "        embedding_matrix[i] = fasttext_model[word]"
   ]
  },
  {
   "cell_type": "markdown",
   "metadata": {},
   "source": [
    "### Question 3\n",
    "\n",
    "How should we handle a word that is not found in the embeddings model (out of vocabulary words)?\n",
    "\n",
    "Please write your answer in the next cell:"
   ]
  },
  {
   "cell_type": "raw",
   "metadata": {
    "collapsed": true
   },
   "source": [
    "In ideal scenario, we can either -\n",
    "a. Either ignore those words\n",
    "b. Or generate a random embedding\n",
    "\n",
    "However, as we are using Fasttext. Which divides word into smaller parts(n-grams). So, even though word does not exist in vocabulary, it will be able to generate the embeddings by matching those n-grams."
   ]
  },
  {
   "cell_type": "code",
   "execution_count": 18,
   "metadata": {},
   "outputs": [
    {
     "name": "stdout",
     "output_type": "stream",
     "text": [
      "200\n",
      "100\n"
     ]
    }
   ],
   "source": [
    "print(MAX_SEQUENCE_LENGTH)\n",
    "print(EMBEDDING_DIM)"
   ]
  },
  {
   "cell_type": "markdown",
   "metadata": {},
   "source": [
    "### Model Definition"
   ]
  },
  {
   "cell_type": "code",
   "execution_count": 19,
   "metadata": {},
   "outputs": [],
   "source": [
    "class BaselineModel(keras.models.Model):\n",
    "    \n",
    "    def __init__(self):\n",
    "        input_layer = layers.Input(\n",
    "            shape=(MAX_SEQUENCE_LENGTH,),\n",
    "            name='Input'\n",
    "        )\n",
    "        embedding_layer = layers.Embedding(len(vocabulary) + 1,\n",
    "                            EMBEDDING_DIM,\n",
    "                            weights=[embedding_matrix],\n",
    "                            input_length=MAX_SEQUENCE_LENGTH,\n",
    "                            name='Embedding',\n",
    "                            trainable=False)(input_layer)\n",
    "            \n",
    "        fc_layer = layers.Dense(\n",
    "            units=100,\n",
    "            name='FullyConnected'\n",
    "        )(embedding_layer)\n",
    "        \n",
    "        fc_layer  = layers.Flatten(name=\"Flatten\")(fc_layer)\n",
    "        \n",
    "        predictions = layers.Dense(\n",
    "            3,\n",
    "            name='Output'\n",
    "        )(fc_layer)\n",
    "        \n",
    "        super().__init__(inputs=[input_layer], outputs=predictions)\n",
    "        \n",
    "    def compile(self):\n",
    "        return super().compile(\n",
    "            optimizer=keras.optimizers.Adam(lr=0.001),\n",
    "            loss='mse'\n",
    "        )"
   ]
  },
  {
   "cell_type": "code",
   "execution_count": 20,
   "metadata": {},
   "outputs": [],
   "source": [
    "model = BaselineModel()\n",
    "model.compile()"
   ]
  },
  {
   "cell_type": "code",
   "execution_count": 21,
   "metadata": {},
   "outputs": [
    {
     "ename": "ImportError",
     "evalue": "Failed to import pydot. You must install pydot and graphviz for `pydotprint` to work.",
     "output_type": "error",
     "traceback": [
      "\u001b[0;31m---------------------------------------------------------------------------\u001b[0m",
      "\u001b[0;31mOSError\u001b[0m                                   Traceback (most recent call last)",
      "\u001b[0;32m/usr/local/lib/python3.5/dist-packages/keras/utils/vis_utils.py\u001b[0m in \u001b[0;36m_check_pydot\u001b[0;34m()\u001b[0m\n\u001b[1;32m     22\u001b[0m         \u001b[0;31m# to check the pydot/graphviz installation.\u001b[0m\u001b[0;34m\u001b[0m\u001b[0;34m\u001b[0m\u001b[0m\n\u001b[0;32m---> 23\u001b[0;31m         \u001b[0mpydot\u001b[0m\u001b[0;34m.\u001b[0m\u001b[0mDot\u001b[0m\u001b[0;34m.\u001b[0m\u001b[0mcreate\u001b[0m\u001b[0;34m(\u001b[0m\u001b[0mpydot\u001b[0m\u001b[0;34m.\u001b[0m\u001b[0mDot\u001b[0m\u001b[0;34m(\u001b[0m\u001b[0;34m)\u001b[0m\u001b[0;34m)\u001b[0m\u001b[0;34m\u001b[0m\u001b[0m\n\u001b[0m\u001b[1;32m     24\u001b[0m     \u001b[0;32mexcept\u001b[0m \u001b[0mException\u001b[0m\u001b[0;34m:\u001b[0m\u001b[0;34m\u001b[0m\u001b[0m\n",
      "\u001b[0;32m/usr/lib/python3/dist-packages/pydot.py\u001b[0m in \u001b[0;36mcreate\u001b[0;34m(self, prog, format)\u001b[0m\n\u001b[1;32m   1925\u001b[0m             \u001b[0mcwd\u001b[0m\u001b[0;34m=\u001b[0m\u001b[0mtmp_dir\u001b[0m\u001b[0;34m,\u001b[0m\u001b[0;34m\u001b[0m\u001b[0m\n\u001b[0;32m-> 1926\u001b[0;31m             stderr=subprocess.PIPE, stdout=subprocess.PIPE)\n\u001b[0m\u001b[1;32m   1927\u001b[0m \u001b[0;34m\u001b[0m\u001b[0m\n",
      "\u001b[0;32m/usr/lib/python3.5/subprocess.py\u001b[0m in \u001b[0;36m__init__\u001b[0;34m(self, args, bufsize, executable, stdin, stdout, stderr, preexec_fn, close_fds, shell, cwd, env, universal_newlines, startupinfo, creationflags, restore_signals, start_new_session, pass_fds)\u001b[0m\n\u001b[1;32m    946\u001b[0m                                 \u001b[0merrread\u001b[0m\u001b[0;34m,\u001b[0m \u001b[0merrwrite\u001b[0m\u001b[0;34m,\u001b[0m\u001b[0;34m\u001b[0m\u001b[0m\n\u001b[0;32m--> 947\u001b[0;31m                                 restore_signals, start_new_session)\n\u001b[0m\u001b[1;32m    948\u001b[0m         \u001b[0;32mexcept\u001b[0m\u001b[0;34m:\u001b[0m\u001b[0;34m\u001b[0m\u001b[0m\n",
      "\u001b[0;32m/usr/lib/python3.5/subprocess.py\u001b[0m in \u001b[0;36m_execute_child\u001b[0;34m(self, args, executable, preexec_fn, close_fds, pass_fds, cwd, env, startupinfo, creationflags, shell, p2cread, p2cwrite, c2pread, c2pwrite, errread, errwrite, restore_signals, start_new_session)\u001b[0m\n\u001b[1;32m   1489\u001b[0m                             \u001b[0merrpipe_read\u001b[0m\u001b[0;34m,\u001b[0m \u001b[0merrpipe_write\u001b[0m\u001b[0;34m,\u001b[0m\u001b[0;34m\u001b[0m\u001b[0m\n\u001b[0;32m-> 1490\u001b[0;31m                             restore_signals, start_new_session, preexec_fn)\n\u001b[0m\u001b[1;32m   1491\u001b[0m                     \u001b[0mself\u001b[0m\u001b[0;34m.\u001b[0m\u001b[0m_child_created\u001b[0m \u001b[0;34m=\u001b[0m \u001b[0;32mTrue\u001b[0m\u001b[0;34m\u001b[0m\u001b[0m\n",
      "\u001b[0;31mOSError\u001b[0m: [Errno 12] Cannot allocate memory",
      "\nDuring handling of the above exception, another exception occurred:\n",
      "\u001b[0;31mImportError\u001b[0m                               Traceback (most recent call last)",
      "\u001b[0;32m<ipython-input-21-ce8ea7286cc6>\u001b[0m in \u001b[0;36m<module>\u001b[0;34m()\u001b[0m\n\u001b[0;32m----> 1\u001b[0;31m \u001b[0mdisplay\u001b[0m\u001b[0;34m.\u001b[0m\u001b[0mdisplay\u001b[0m\u001b[0;34m(\u001b[0m\u001b[0mdisplay\u001b[0m\u001b[0;34m.\u001b[0m\u001b[0mImage\u001b[0m\u001b[0;34m(\u001b[0m\u001b[0mkeras\u001b[0m\u001b[0;34m.\u001b[0m\u001b[0mutils\u001b[0m\u001b[0;34m.\u001b[0m\u001b[0mvis_utils\u001b[0m\u001b[0;34m.\u001b[0m\u001b[0mmodel_to_dot\u001b[0m\u001b[0;34m(\u001b[0m\u001b[0mmodel\u001b[0m\u001b[0;34m,\u001b[0m \u001b[0mshow_shapes\u001b[0m\u001b[0;34m=\u001b[0m\u001b[0;32mTrue\u001b[0m\u001b[0;34m)\u001b[0m\u001b[0;34m.\u001b[0m\u001b[0mcreate_png\u001b[0m\u001b[0;34m(\u001b[0m\u001b[0;34m)\u001b[0m\u001b[0;34m)\u001b[0m\u001b[0;34m)\u001b[0m\u001b[0;34m\u001b[0m\u001b[0m\n\u001b[0m",
      "\u001b[0;32m/usr/local/lib/python3.5/dist-packages/keras/utils/vis_utils.py\u001b[0m in \u001b[0;36mmodel_to_dot\u001b[0;34m(model, show_shapes, show_layer_names, rankdir)\u001b[0m\n\u001b[1;32m     50\u001b[0m     \u001b[0;32mfrom\u001b[0m \u001b[0;34m.\u001b[0m\u001b[0;34m.\u001b[0m\u001b[0mmodels\u001b[0m \u001b[0;32mimport\u001b[0m \u001b[0mSequential\u001b[0m\u001b[0;34m\u001b[0m\u001b[0m\n\u001b[1;32m     51\u001b[0m \u001b[0;34m\u001b[0m\u001b[0m\n\u001b[0;32m---> 52\u001b[0;31m     \u001b[0m_check_pydot\u001b[0m\u001b[0;34m(\u001b[0m\u001b[0;34m)\u001b[0m\u001b[0;34m\u001b[0m\u001b[0m\n\u001b[0m\u001b[1;32m     53\u001b[0m     \u001b[0mdot\u001b[0m \u001b[0;34m=\u001b[0m \u001b[0mpydot\u001b[0m\u001b[0;34m.\u001b[0m\u001b[0mDot\u001b[0m\u001b[0;34m(\u001b[0m\u001b[0;34m)\u001b[0m\u001b[0;34m\u001b[0m\u001b[0m\n\u001b[1;32m     54\u001b[0m     \u001b[0mdot\u001b[0m\u001b[0;34m.\u001b[0m\u001b[0mset\u001b[0m\u001b[0;34m(\u001b[0m\u001b[0;34m'rankdir'\u001b[0m\u001b[0;34m,\u001b[0m \u001b[0mrankdir\u001b[0m\u001b[0;34m)\u001b[0m\u001b[0;34m\u001b[0m\u001b[0m\n",
      "\u001b[0;32m/usr/local/lib/python3.5/dist-packages/keras/utils/vis_utils.py\u001b[0m in \u001b[0;36m_check_pydot\u001b[0;34m()\u001b[0m\n\u001b[1;32m     25\u001b[0m         \u001b[0;31m# pydot raises a generic Exception here,\u001b[0m\u001b[0;34m\u001b[0m\u001b[0;34m\u001b[0m\u001b[0m\n\u001b[1;32m     26\u001b[0m         \u001b[0;31m# so no specific class can be caught.\u001b[0m\u001b[0;34m\u001b[0m\u001b[0;34m\u001b[0m\u001b[0m\n\u001b[0;32m---> 27\u001b[0;31m         raise ImportError('Failed to import pydot. You must install pydot'\n\u001b[0m\u001b[1;32m     28\u001b[0m                           ' and graphviz for `pydotprint` to work.')\n\u001b[1;32m     29\u001b[0m \u001b[0;34m\u001b[0m\u001b[0m\n",
      "\u001b[0;31mImportError\u001b[0m: Failed to import pydot. You must install pydot and graphviz for `pydotprint` to work."
     ]
    }
   ],
   "source": [
    "display.display(display.Image(keras.utils.vis_utils.model_to_dot(model, show_shapes=True).create_png()))"
   ]
  },
  {
   "cell_type": "markdown",
   "metadata": {},
   "source": [
    "### Model Training"
   ]
  },
  {
   "cell_type": "code",
   "execution_count": 24,
   "metadata": {},
   "outputs": [
    {
     "data": {
      "application/vnd.jupyter.widget-view+json": {
       "model_id": "0015bd1a85274b7284592aa542d2d7a1",
       "version_major": 2,
       "version_minor": 0
      },
      "text/html": [
       "<p>Failed to display Jupyter Widget of type <code>HBox</code>.</p>\n",
       "<p>\n",
       "  If you're reading this message in Jupyter Notebook or JupyterLab, it may mean\n",
       "  that the widgets JavaScript is still loading. If this message persists, it\n",
       "  likely means that the widgets JavaScript library is either not installed or\n",
       "  not enabled. See the <a href=\"https://ipywidgets.readthedocs.io/en/stable/user_install.html\">Jupyter\n",
       "  Widgets Documentation</a> for setup instructions.\n",
       "</p>\n",
       "<p>\n",
       "  If you're reading this message in another notebook frontend (for example, a static\n",
       "  rendering on GitHub or <a href=\"https://nbviewer.jupyter.org/\">NBViewer</a>),\n",
       "  it may mean that your frontend doesn't currently support widgets.\n",
       "</p>\n"
      ],
      "text/plain": [
       "HBox(children=(IntProgress(value=0, description='Training', max=10), HTML(value='')))"
      ]
     },
     "metadata": {},
     "output_type": "display_data"
    },
    {
     "data": {
      "application/vnd.jupyter.widget-view+json": {
       "model_id": "7eabd4511f4749d2b095c38c5beeb8c3",
       "version_major": 2,
       "version_minor": 0
      },
      "text/html": [
       "<p>Failed to display Jupyter Widget of type <code>HBox</code>.</p>\n",
       "<p>\n",
       "  If you're reading this message in Jupyter Notebook or JupyterLab, it may mean\n",
       "  that the widgets JavaScript is still loading. If this message persists, it\n",
       "  likely means that the widgets JavaScript library is either not installed or\n",
       "  not enabled. See the <a href=\"https://ipywidgets.readthedocs.io/en/stable/user_install.html\">Jupyter\n",
       "  Widgets Documentation</a> for setup instructions.\n",
       "</p>\n",
       "<p>\n",
       "  If you're reading this message in another notebook frontend (for example, a static\n",
       "  rendering on GitHub or <a href=\"https://nbviewer.jupyter.org/\">NBViewer</a>),\n",
       "  it may mean that your frontend doesn't currently support widgets.\n",
       "</p>\n"
      ],
      "text/plain": [
       "HBox(children=(IntProgress(value=0, description='Epoch 0', max=42371), HTML(value='')))"
      ]
     },
     "metadata": {},
     "output_type": "display_data"
    },
    {
     "data": {
      "application/vnd.jupyter.widget-view+json": {
       "model_id": "755b6ab402bd4d7e96b38c246d6a7cf0",
       "version_major": 2,
       "version_minor": 0
      },
      "text/html": [
       "<p>Failed to display Jupyter Widget of type <code>HBox</code>.</p>\n",
       "<p>\n",
       "  If you're reading this message in Jupyter Notebook or JupyterLab, it may mean\n",
       "  that the widgets JavaScript is still loading. If this message persists, it\n",
       "  likely means that the widgets JavaScript library is either not installed or\n",
       "  not enabled. See the <a href=\"https://ipywidgets.readthedocs.io/en/stable/user_install.html\">Jupyter\n",
       "  Widgets Documentation</a> for setup instructions.\n",
       "</p>\n",
       "<p>\n",
       "  If you're reading this message in another notebook frontend (for example, a static\n",
       "  rendering on GitHub or <a href=\"https://nbviewer.jupyter.org/\">NBViewer</a>),\n",
       "  it may mean that your frontend doesn't currently support widgets.\n",
       "</p>\n"
      ],
      "text/plain": [
       "HBox(children=(IntProgress(value=0, description='Epoch 1', max=42371), HTML(value='')))"
      ]
     },
     "metadata": {},
     "output_type": "display_data"
    },
    {
     "data": {
      "application/vnd.jupyter.widget-view+json": {
       "model_id": "34d5c90defa04223b4ea07dcbda29c6b",
       "version_major": 2,
       "version_minor": 0
      },
      "text/html": [
       "<p>Failed to display Jupyter Widget of type <code>HBox</code>.</p>\n",
       "<p>\n",
       "  If you're reading this message in Jupyter Notebook or JupyterLab, it may mean\n",
       "  that the widgets JavaScript is still loading. If this message persists, it\n",
       "  likely means that the widgets JavaScript library is either not installed or\n",
       "  not enabled. See the <a href=\"https://ipywidgets.readthedocs.io/en/stable/user_install.html\">Jupyter\n",
       "  Widgets Documentation</a> for setup instructions.\n",
       "</p>\n",
       "<p>\n",
       "  If you're reading this message in another notebook frontend (for example, a static\n",
       "  rendering on GitHub or <a href=\"https://nbviewer.jupyter.org/\">NBViewer</a>),\n",
       "  it may mean that your frontend doesn't currently support widgets.\n",
       "</p>\n"
      ],
      "text/plain": [
       "HBox(children=(IntProgress(value=0, description='Epoch 2', max=42371), HTML(value='')))"
      ]
     },
     "metadata": {},
     "output_type": "display_data"
    },
    {
     "data": {
      "application/vnd.jupyter.widget-view+json": {
       "model_id": "ab9adf3cd31a4a7997cac69fbd4e6635",
       "version_major": 2,
       "version_minor": 0
      },
      "text/html": [
       "<p>Failed to display Jupyter Widget of type <code>HBox</code>.</p>\n",
       "<p>\n",
       "  If you're reading this message in Jupyter Notebook or JupyterLab, it may mean\n",
       "  that the widgets JavaScript is still loading. If this message persists, it\n",
       "  likely means that the widgets JavaScript library is either not installed or\n",
       "  not enabled. See the <a href=\"https://ipywidgets.readthedocs.io/en/stable/user_install.html\">Jupyter\n",
       "  Widgets Documentation</a> for setup instructions.\n",
       "</p>\n",
       "<p>\n",
       "  If you're reading this message in another notebook frontend (for example, a static\n",
       "  rendering on GitHub or <a href=\"https://nbviewer.jupyter.org/\">NBViewer</a>),\n",
       "  it may mean that your frontend doesn't currently support widgets.\n",
       "</p>\n"
      ],
      "text/plain": [
       "HBox(children=(IntProgress(value=0, description='Epoch 3', max=42371), HTML(value='')))"
      ]
     },
     "metadata": {},
     "output_type": "display_data"
    },
    {
     "data": {
      "application/vnd.jupyter.widget-view+json": {
       "model_id": "ae751f59ae5548488d94571dbf87fd55",
       "version_major": 2,
       "version_minor": 0
      },
      "text/html": [
       "<p>Failed to display Jupyter Widget of type <code>HBox</code>.</p>\n",
       "<p>\n",
       "  If you're reading this message in Jupyter Notebook or JupyterLab, it may mean\n",
       "  that the widgets JavaScript is still loading. If this message persists, it\n",
       "  likely means that the widgets JavaScript library is either not installed or\n",
       "  not enabled. See the <a href=\"https://ipywidgets.readthedocs.io/en/stable/user_install.html\">Jupyter\n",
       "  Widgets Documentation</a> for setup instructions.\n",
       "</p>\n",
       "<p>\n",
       "  If you're reading this message in another notebook frontend (for example, a static\n",
       "  rendering on GitHub or <a href=\"https://nbviewer.jupyter.org/\">NBViewer</a>),\n",
       "  it may mean that your frontend doesn't currently support widgets.\n",
       "</p>\n"
      ],
      "text/plain": [
       "HBox(children=(IntProgress(value=0, description='Epoch 4', max=42371), HTML(value='')))"
      ]
     },
     "metadata": {},
     "output_type": "display_data"
    },
    {
     "data": {
      "application/vnd.jupyter.widget-view+json": {
       "model_id": "9b931954b6a04bee8056a6154e89e6d4",
       "version_major": 2,
       "version_minor": 0
      },
      "text/html": [
       "<p>Failed to display Jupyter Widget of type <code>HBox</code>.</p>\n",
       "<p>\n",
       "  If you're reading this message in Jupyter Notebook or JupyterLab, it may mean\n",
       "  that the widgets JavaScript is still loading. If this message persists, it\n",
       "  likely means that the widgets JavaScript library is either not installed or\n",
       "  not enabled. See the <a href=\"https://ipywidgets.readthedocs.io/en/stable/user_install.html\">Jupyter\n",
       "  Widgets Documentation</a> for setup instructions.\n",
       "</p>\n",
       "<p>\n",
       "  If you're reading this message in another notebook frontend (for example, a static\n",
       "  rendering on GitHub or <a href=\"https://nbviewer.jupyter.org/\">NBViewer</a>),\n",
       "  it may mean that your frontend doesn't currently support widgets.\n",
       "</p>\n"
      ],
      "text/plain": [
       "HBox(children=(IntProgress(value=0, description='Epoch 5', max=42371), HTML(value='')))"
      ]
     },
     "metadata": {},
     "output_type": "display_data"
    },
    {
     "data": {
      "application/vnd.jupyter.widget-view+json": {
       "model_id": "e370bc225b94447d843e51a7067b8035",
       "version_major": 2,
       "version_minor": 0
      },
      "text/html": [
       "<p>Failed to display Jupyter Widget of type <code>HBox</code>.</p>\n",
       "<p>\n",
       "  If you're reading this message in Jupyter Notebook or JupyterLab, it may mean\n",
       "  that the widgets JavaScript is still loading. If this message persists, it\n",
       "  likely means that the widgets JavaScript library is either not installed or\n",
       "  not enabled. See the <a href=\"https://ipywidgets.readthedocs.io/en/stable/user_install.html\">Jupyter\n",
       "  Widgets Documentation</a> for setup instructions.\n",
       "</p>\n",
       "<p>\n",
       "  If you're reading this message in another notebook frontend (for example, a static\n",
       "  rendering on GitHub or <a href=\"https://nbviewer.jupyter.org/\">NBViewer</a>),\n",
       "  it may mean that your frontend doesn't currently support widgets.\n",
       "</p>\n"
      ],
      "text/plain": [
       "HBox(children=(IntProgress(value=0, description='Epoch 6', max=42371), HTML(value='')))"
      ]
     },
     "metadata": {},
     "output_type": "display_data"
    },
    {
     "data": {
      "application/vnd.jupyter.widget-view+json": {
       "model_id": "d28eb699b3b743dd89039f5889b89b62",
       "version_major": 2,
       "version_minor": 0
      },
      "text/html": [
       "<p>Failed to display Jupyter Widget of type <code>HBox</code>.</p>\n",
       "<p>\n",
       "  If you're reading this message in Jupyter Notebook or JupyterLab, it may mean\n",
       "  that the widgets JavaScript is still loading. If this message persists, it\n",
       "  likely means that the widgets JavaScript library is either not installed or\n",
       "  not enabled. See the <a href=\"https://ipywidgets.readthedocs.io/en/stable/user_install.html\">Jupyter\n",
       "  Widgets Documentation</a> for setup instructions.\n",
       "</p>\n",
       "<p>\n",
       "  If you're reading this message in another notebook frontend (for example, a static\n",
       "  rendering on GitHub or <a href=\"https://nbviewer.jupyter.org/\">NBViewer</a>),\n",
       "  it may mean that your frontend doesn't currently support widgets.\n",
       "</p>\n"
      ],
      "text/plain": [
       "HBox(children=(IntProgress(value=0, description='Epoch 7', max=42371), HTML(value='')))"
      ]
     },
     "metadata": {},
     "output_type": "display_data"
    },
    {
     "data": {
      "application/vnd.jupyter.widget-view+json": {
       "model_id": "e35c35c5a4a845a98ea6484ef5200395",
       "version_major": 2,
       "version_minor": 0
      },
      "text/html": [
       "<p>Failed to display Jupyter Widget of type <code>HBox</code>.</p>\n",
       "<p>\n",
       "  If you're reading this message in Jupyter Notebook or JupyterLab, it may mean\n",
       "  that the widgets JavaScript is still loading. If this message persists, it\n",
       "  likely means that the widgets JavaScript library is either not installed or\n",
       "  not enabled. See the <a href=\"https://ipywidgets.readthedocs.io/en/stable/user_install.html\">Jupyter\n",
       "  Widgets Documentation</a> for setup instructions.\n",
       "</p>\n",
       "<p>\n",
       "  If you're reading this message in another notebook frontend (for example, a static\n",
       "  rendering on GitHub or <a href=\"https://nbviewer.jupyter.org/\">NBViewer</a>),\n",
       "  it may mean that your frontend doesn't currently support widgets.\n",
       "</p>\n"
      ],
      "text/plain": [
       "HBox(children=(IntProgress(value=0, description='Epoch 8', max=42371), HTML(value='')))"
      ]
     },
     "metadata": {},
     "output_type": "display_data"
    },
    {
     "data": {
      "application/vnd.jupyter.widget-view+json": {
       "model_id": "c1e8790d136140b9808654edc53a5eb9",
       "version_major": 2,
       "version_minor": 0
      },
      "text/html": [
       "<p>Failed to display Jupyter Widget of type <code>HBox</code>.</p>\n",
       "<p>\n",
       "  If you're reading this message in Jupyter Notebook or JupyterLab, it may mean\n",
       "  that the widgets JavaScript is still loading. If this message persists, it\n",
       "  likely means that the widgets JavaScript library is either not installed or\n",
       "  not enabled. See the <a href=\"https://ipywidgets.readthedocs.io/en/stable/user_install.html\">Jupyter\n",
       "  Widgets Documentation</a> for setup instructions.\n",
       "</p>\n",
       "<p>\n",
       "  If you're reading this message in another notebook frontend (for example, a static\n",
       "  rendering on GitHub or <a href=\"https://nbviewer.jupyter.org/\">NBViewer</a>),\n",
       "  it may mean that your frontend doesn't currently support widgets.\n",
       "</p>\n"
      ],
      "text/plain": [
       "HBox(children=(IntProgress(value=0, description='Epoch 9', max=42371), HTML(value='')))"
      ]
     },
     "metadata": {},
     "output_type": "display_data"
    },
    {
     "name": "stdout",
     "output_type": "stream",
     "text": [
      "\n"
     ]
    }
   ],
   "source": [
    "history = model.fit(\n",
    "    [data['train']['text']],\n",
    "    keras.utils.to_categorical(data['train']['y'],3),\n",
    "    epochs=10,\n",
    "    verbose=0,\n",
    "    callbacks=[\n",
    "        TQDMNotebookCallback(\n",
    "            leave_inner=True,\n",
    "        )\n",
    "    ],\n",
    "    validation_data=(\n",
    "        [data['val']['text']],\n",
    "        keras.utils.to_categorical(data['val']['y'],3)\n",
    "    ),\n",
    "    batch_size=128\n",
    ")"
   ]
  },
  {
   "cell_type": "code",
   "execution_count": 25,
   "metadata": {},
   "outputs": [
    {
     "data": {
      "image/png": "[encoded data removed]",
      "text/plain": [
       "<matplotlib.figure.Figure at 0x7fb0f296b9e8>"
      ]
     },
     "metadata": {},
     "output_type": "display_data"
    }
   ],
   "source": [
    "import matplotlib.pyplot as plt\n",
    "\n",
    "plt.plot(history.epoch,history.history['loss'],history.epoch,history.history['val_loss'])\n",
    "plt.show()\n",
    "_=_"
   ]
  },
  {
   "cell_type": "markdown",
   "metadata": {},
   "source": [
    "### Question 4\n",
    "\n",
    "This model is very simple, it consists of only the embedding layer and one dense layer. By looking at the graph above, you can see that the model is not generelizing well on the validation set, when does that usually happen and what can we do to improve it? \n",
    "\n",
    "Please write your answer in the next cell:"
   ]
  },
  {
   "cell_type": "code",
   "execution_count": 102,
   "metadata": {},
   "outputs": [
    {
     "data": {
      "text/plain": [
       "' Generalization normally fails in Validation when model get overfit to Training data. To prevent overfitting, we can -\\n1. Add more Data\\n2. Use models with variations and average out their output. i.e. -\\n    a. Either using models of different forms\\n    b. Or through Bagging approach i.e. training it on different subsets of Training data.\\n3. Control the capacity/flexibility of model. It can be done by - \\n    a. Early stopping before it overfits\\n    b. Controlling architecture -- limiting no. of hidden layers\\n    c. Adding Noise\\n    d. Penalizing large weights\\n4. Taking average of predictions generated by varying Weight vectors.\\n'"
      ]
     },
     "execution_count": 102,
     "metadata": {},
     "output_type": "execute_result"
    }
   ],
   "source": [
    "''' Generalization normally fails in Validation when model get overfit to Training data. To prevent overfitting, we can -\n",
    "1. Add more Data\n",
    "2. Use models with variations and average out their output. i.e. -\n",
    "    a. Either using models of different forms\n",
    "    b. Or through Bagging approach i.e. training it on different subsets of Training data.\n",
    "3. Control the capacity/flexibility of model. It can be done by - \n",
    "    a. Early stopping before it overfits\n",
    "    b. Controlling architecture -- limiting no. of hidden layers\n",
    "    c. Adding Noise\n",
    "    d. Penalizing large weights\n",
    "4. Taking average of predictions generated by varying Weight vectors.\n",
    "5. Use dropout layers\n",
    "'''"
   ]
  },
  {
   "cell_type": "markdown",
   "metadata": {},
   "source": [
    "### Model Evaluation"
   ]
  },
  {
   "cell_type": "markdown",
   "metadata": {},
   "source": [
    "Let's use accuracy to evaluate our model:"
   ]
  },
  {
   "cell_type": "code",
   "execution_count": 27,
   "metadata": {},
   "outputs": [],
   "source": [
    "from sklearn.metrics import accuracy_score"
   ]
  },
  {
   "cell_type": "code",
   "execution_count": 28,
   "metadata": {},
   "outputs": [],
   "source": [
    "h = model.predict([data['test']['text']])"
   ]
  },
  {
   "cell_type": "code",
   "execution_count": 29,
   "metadata": {},
   "outputs": [
    {
     "name": "stdout",
     "output_type": "stream",
     "text": [
      "Accuracy score on 471 test samples: 0.545648\n"
     ]
    }
   ],
   "source": [
    "predict = np.asarray([np.argmax(i) for i in h])\n",
    "gold = np.asarray(data['test']['y'])\n",
    "resultf1 = accuracy_score(gold, predict)\n",
    "print('Accuracy score on {} test samples: {:.6}'.format(\n",
    "    len(predict), resultf1\n",
    "))"
   ]
  },
  {
   "cell_type": "markdown",
   "metadata": {},
   "source": [
    "### Question 5\n",
    "\n",
    "As you can see, this model is not performing well. What would you change in this model to increase its accuracy?\n",
    "\n",
    "Please write your answer in the next cell:"
   ]
  },
  {
   "cell_type": "code",
   "execution_count": 103,
   "metadata": {},
   "outputs": [
    {
     "data": {
      "text/plain": [
       "'\\nThere can be several ways to improve the model -\\n1. We can intoduce more layers like convolution along with pooling etc. And test with different architectures of CNN\\n2. We can use RNN network like LSTM, which stores previous state in memory.\\n'"
      ]
     },
     "execution_count": 103,
     "metadata": {},
     "output_type": "execute_result"
    }
   ],
   "source": [
    "'''\n",
    "There can be several ways to improve the model -\n",
    "1. We can intoduce more layers like convolution along with pooling etc. And test with different architectures of CNN\n",
    "2. We can use RNN network like LSTM, which stores previous state in memory.\n",
    "'''"
   ]
  },
  {
   "cell_type": "markdown",
   "metadata": {},
   "source": [
    "### Inference"
   ]
  },
  {
   "cell_type": "code",
   "execution_count": 30,
   "metadata": {},
   "outputs": [],
   "source": [
    "def infer(texts):\n",
    "    sequences = []\n",
    "    for text in texts:\n",
    "        text = text.split()\n",
    "        text_sequence = []\n",
    "        for word in text:\n",
    "            if word in vocabulary:\n",
    "                text_sequence.append(vocabulary[word])\n",
    "        sequences.append(text_sequence)\n",
    "\n",
    "    padded_seq = pad_sequences(sequences, maxlen=MAX_SEQUENCE_LENGTH)\n",
    "    return model.predict([padded_seq])\n",
    "    "
   ]
  },
  {
   "cell_type": "code",
   "execution_count": 31,
   "metadata": {},
   "outputs": [],
   "source": [
    "text = ['das ist schlecht',\n",
    "       'ich finde das echt toll',\n",
    "       'das ist gut',\n",
    "       'das ist nicht schlecht',\n",
    "       'das ist nicht gut',\n",
    "       'okay vielen dank',]"
   ]
  },
  {
   "cell_type": "code",
   "execution_count": 32,
   "metadata": {},
   "outputs": [
    {
     "name": "stdout",
     "output_type": "stream",
     "text": [
      "0 [ 0.40850994  0.21610351  0.28963226] das ist schlecht\n",
      "0 [ 0.4200699   0.13947555  0.36822423] ich finde das echt toll\n",
      "2 [ 0.29508847  0.22653696  0.39167821] das ist gut\n",
      "0 [ 0.45426169  0.22597839  0.2401565 ] das ist nicht schlecht\n",
      "2 [ 0.34084019  0.23641184  0.34220243] das ist nicht gut\n",
      "2 [ 0.15376954  0.19991808  0.56166852] okay vielen dank\n"
     ]
    }
   ],
   "source": [
    "h_ = infer(text)\n",
    "for i,t in enumerate(text):\n",
    "    print('{} {} {}'.format(\n",
    "            np.argmax(h_[i]),\n",
    "            h_[i],\n",
    "            t[:MAX_SEQUENCE_LENGTH],\n",
    "        ))"
   ]
  },
  {
   "cell_type": "markdown",
   "metadata": {},
   "source": [
    "### Question 6\n",
    "\n",
    "Implement a model similar to the one described in [this paper](https://arxiv.org/pdf/1704.06125.pdf), in order to get a much higher accuracy."
   ]
  },
  {
   "cell_type": "raw",
   "metadata": {},
   "source": [
    "# # Analysis through CNN model"
   ]
  },
  {
   "cell_type": "code",
   "execution_count": 96,
   "metadata": {},
   "outputs": [],
   "source": [
    "from keras.layers import Input, Dense, Conv1D, GlobalMaxPooling1D, Reshape, Dropout\n",
    "from keras.models import Model\n",
    "\n",
    "\n",
    "class BaselineModel2(keras.models.Model):\n",
    "    \n",
    "    def __init__(self):\n",
    "        input_layer = layers.Input(\n",
    "            shape=(MAX_SEQUENCE_LENGTH,),\n",
    "            name='Input'\n",
    "        )\n",
    "        embedding_layer = layers.Embedding(len(vocabulary) + 1,\n",
    "                            EMBEDDING_DIM,\n",
    "                            weights=[embedding_matrix],\n",
    "                            input_length=MAX_SEQUENCE_LENGTH,\n",
    "                            name='Embedding',\n",
    "                            trainable=False)(input_layer)\n",
    "\n",
    "        conv1 = Conv1D(200, 2, activation='relu')(embedding_layer)\n",
    "        conv2 = Conv1D(200, 3, activation='relu')(embedding_layer)\n",
    "        conv3 = Conv1D(200, 4, activation='relu')(embedding_layer)\n",
    "        \n",
    "        pool1 = GlobalMaxPooling1D()(conv1)\n",
    "        pool2 = GlobalMaxPooling1D()(conv2)\n",
    "        pool3 = GlobalMaxPooling1D()(conv3)\n",
    "        \n",
    "        conc_layer = keras.layers.concatenate([pool3, pool2, pool1])\n",
    "        drop1 = Dropout(0.5)(conc_layer)\n",
    "        fc_layer1 = layers.Dense(units=30,name='FullyConnected')(drop1)\n",
    "        drop2 = Dropout(0.5)(fc_layer1)\n",
    "        #fc_layer2 = layers.Flatten(name=\"Flatten\")(drop2)\n",
    "        predictions = Dense(3, activation='softmax')(drop2)\n",
    "        super().__init__(inputs=[input_layer], outputs=predictions)\n",
    "        \n",
    "    def compile(self):\n",
    "        return super().compile(\n",
    "            optimizer=keras.optimizers.Adam(lr=0.001),\n",
    "            loss='mse'\n",
    "        )"
   ]
  },
  {
   "cell_type": "code",
   "execution_count": 97,
   "metadata": {},
   "outputs": [],
   "source": [
    "model2 = BaselineModel2()\n",
    "model2.compile()"
   ]
  },
  {
   "cell_type": "code",
   "execution_count": 98,
   "metadata": {},
   "outputs": [],
   "source": [
    "#display.display(display.Image(keras.utils.vis_utils.model_to_dot(model2, show_shapes=True).create_png()))"
   ]
  },
  {
   "cell_type": "code",
   "execution_count": 99,
   "metadata": {},
   "outputs": [
    {
     "data": {
      "application/vnd.jupyter.widget-view+json": {
       "model_id": "cb182710424b426c98b5c71c2fba57de",
       "version_major": 2,
       "version_minor": 0
      },
      "text/html": [
       "<p>Failed to display Jupyter Widget of type <code>HBox</code>.</p>\n",
       "<p>\n",
       "  If you're reading this message in Jupyter Notebook or JupyterLab, it may mean\n",
       "  that the widgets JavaScript is still loading. If this message persists, it\n",
       "  likely means that the widgets JavaScript library is either not installed or\n",
       "  not enabled. See the <a href=\"https://ipywidgets.readthedocs.io/en/stable/user_install.html\">Jupyter\n",
       "  Widgets Documentation</a> for setup instructions.\n",
       "</p>\n",
       "<p>\n",
       "  If you're reading this message in another notebook frontend (for example, a static\n",
       "  rendering on GitHub or <a href=\"https://nbviewer.jupyter.org/\">NBViewer</a>),\n",
       "  it may mean that your frontend doesn't currently support widgets.\n",
       "</p>\n"
      ],
      "text/plain": [
       "HBox(children=(IntProgress(value=0, description='Training', max=10), HTML(value='')))"
      ]
     },
     "metadata": {},
     "output_type": "display_data"
    },
    {
     "data": {
      "application/vnd.jupyter.widget-view+json": {
       "model_id": "75eb4b46b989498baf8183b4e3c382bc",
       "version_major": 2,
       "version_minor": 0
      },
      "text/html": [
       "<p>Failed to display Jupyter Widget of type <code>HBox</code>.</p>\n",
       "<p>\n",
       "  If you're reading this message in Jupyter Notebook or JupyterLab, it may mean\n",
       "  that the widgets JavaScript is still loading. If this message persists, it\n",
       "  likely means that the widgets JavaScript library is either not installed or\n",
       "  not enabled. See the <a href=\"https://ipywidgets.readthedocs.io/en/stable/user_install.html\">Jupyter\n",
       "  Widgets Documentation</a> for setup instructions.\n",
       "</p>\n",
       "<p>\n",
       "  If you're reading this message in another notebook frontend (for example, a static\n",
       "  rendering on GitHub or <a href=\"https://nbviewer.jupyter.org/\">NBViewer</a>),\n",
       "  it may mean that your frontend doesn't currently support widgets.\n",
       "</p>\n"
      ],
      "text/plain": [
       "HBox(children=(IntProgress(value=0, description='Epoch 0', max=42371), HTML(value='')))"
      ]
     },
     "metadata": {},
     "output_type": "display_data"
    },
    {
     "data": {
      "application/vnd.jupyter.widget-view+json": {
       "model_id": "cc2f9683048a4a4f99fcd726b0deb6e8",
       "version_major": 2,
       "version_minor": 0
      },
      "text/html": [
       "<p>Failed to display Jupyter Widget of type <code>HBox</code>.</p>\n",
       "<p>\n",
       "  If you're reading this message in Jupyter Notebook or JupyterLab, it may mean\n",
       "  that the widgets JavaScript is still loading. If this message persists, it\n",
       "  likely means that the widgets JavaScript library is either not installed or\n",
       "  not enabled. See the <a href=\"https://ipywidgets.readthedocs.io/en/stable/user_install.html\">Jupyter\n",
       "  Widgets Documentation</a> for setup instructions.\n",
       "</p>\n",
       "<p>\n",
       "  If you're reading this message in another notebook frontend (for example, a static\n",
       "  rendering on GitHub or <a href=\"https://nbviewer.jupyter.org/\">NBViewer</a>),\n",
       "  it may mean that your frontend doesn't currently support widgets.\n",
       "</p>\n"
      ],
      "text/plain": [
       "HBox(children=(IntProgress(value=0, description='Epoch 1', max=42371), HTML(value='')))"
      ]
     },
     "metadata": {},
     "output_type": "display_data"
    },
    {
     "data": {
      "application/vnd.jupyter.widget-view+json": {
       "model_id": "ea4ec32a0834474ab1404bb2cacc67d2",
       "version_major": 2,
       "version_minor": 0
      },
      "text/html": [
       "<p>Failed to display Jupyter Widget of type <code>HBox</code>.</p>\n",
       "<p>\n",
       "  If you're reading this message in Jupyter Notebook or JupyterLab, it may mean\n",
       "  that the widgets JavaScript is still loading. If this message persists, it\n",
       "  likely means that the widgets JavaScript library is either not installed or\n",
       "  not enabled. See the <a href=\"https://ipywidgets.readthedocs.io/en/stable/user_install.html\">Jupyter\n",
       "  Widgets Documentation</a> for setup instructions.\n",
       "</p>\n",
       "<p>\n",
       "  If you're reading this message in another notebook frontend (for example, a static\n",
       "  rendering on GitHub or <a href=\"https://nbviewer.jupyter.org/\">NBViewer</a>),\n",
       "  it may mean that your frontend doesn't currently support widgets.\n",
       "</p>\n"
      ],
      "text/plain": [
       "HBox(children=(IntProgress(value=0, description='Epoch 2', max=42371), HTML(value='')))"
      ]
     },
     "metadata": {},
     "output_type": "display_data"
    },
    {
     "data": {
      "application/vnd.jupyter.widget-view+json": {
       "model_id": "ec291571874548998a7742572dd4c482",
       "version_major": 2,
       "version_minor": 0
      },
      "text/html": [
       "<p>Failed to display Jupyter Widget of type <code>HBox</code>.</p>\n",
       "<p>\n",
       "  If you're reading this message in Jupyter Notebook or JupyterLab, it may mean\n",
       "  that the widgets JavaScript is still loading. If this message persists, it\n",
       "  likely means that the widgets JavaScript library is either not installed or\n",
       "  not enabled. See the <a href=\"https://ipywidgets.readthedocs.io/en/stable/user_install.html\">Jupyter\n",
       "  Widgets Documentation</a> for setup instructions.\n",
       "</p>\n",
       "<p>\n",
       "  If you're reading this message in another notebook frontend (for example, a static\n",
       "  rendering on GitHub or <a href=\"https://nbviewer.jupyter.org/\">NBViewer</a>),\n",
       "  it may mean that your frontend doesn't currently support widgets.\n",
       "</p>\n"
      ],
      "text/plain": [
       "HBox(children=(IntProgress(value=0, description='Epoch 3', max=42371), HTML(value='')))"
      ]
     },
     "metadata": {},
     "output_type": "display_data"
    },
    {
     "data": {
      "application/vnd.jupyter.widget-view+json": {
       "model_id": "c39bc69a367f41f9b4a2d650322361f2",
       "version_major": 2,
       "version_minor": 0
      },
      "text/html": [
       "<p>Failed to display Jupyter Widget of type <code>HBox</code>.</p>\n",
       "<p>\n",
       "  If you're reading this message in Jupyter Notebook or JupyterLab, it may mean\n",
       "  that the widgets JavaScript is still loading. If this message persists, it\n",
       "  likely means that the widgets JavaScript library is either not installed or\n",
       "  not enabled. See the <a href=\"https://ipywidgets.readthedocs.io/en/stable/user_install.html\">Jupyter\n",
       "  Widgets Documentation</a> for setup instructions.\n",
       "</p>\n",
       "<p>\n",
       "  If you're reading this message in another notebook frontend (for example, a static\n",
       "  rendering on GitHub or <a href=\"https://nbviewer.jupyter.org/\">NBViewer</a>),\n",
       "  it may mean that your frontend doesn't currently support widgets.\n",
       "</p>\n"
      ],
      "text/plain": [
       "HBox(children=(IntProgress(value=0, description='Epoch 4', max=42371), HTML(value='')))"
      ]
     },
     "metadata": {},
     "output_type": "display_data"
    },
    {
     "data": {
      "application/vnd.jupyter.widget-view+json": {
       "model_id": "ccb21112b9cf47d99a4082e903842d45",
       "version_major": 2,
       "version_minor": 0
      },
      "text/html": [
       "<p>Failed to display Jupyter Widget of type <code>HBox</code>.</p>\n",
       "<p>\n",
       "  If you're reading this message in Jupyter Notebook or JupyterLab, it may mean\n",
       "  that the widgets JavaScript is still loading. If this message persists, it\n",
       "  likely means that the widgets JavaScript library is either not installed or\n",
       "  not enabled. See the <a href=\"https://ipywidgets.readthedocs.io/en/stable/user_install.html\">Jupyter\n",
       "  Widgets Documentation</a> for setup instructions.\n",
       "</p>\n",
       "<p>\n",
       "  If you're reading this message in another notebook frontend (for example, a static\n",
       "  rendering on GitHub or <a href=\"https://nbviewer.jupyter.org/\">NBViewer</a>),\n",
       "  it may mean that your frontend doesn't currently support widgets.\n",
       "</p>\n"
      ],
      "text/plain": [
       "HBox(children=(IntProgress(value=0, description='Epoch 5', max=42371), HTML(value='')))"
      ]
     },
     "metadata": {},
     "output_type": "display_data"
    },
    {
     "data": {
      "application/vnd.jupyter.widget-view+json": {
       "model_id": "1ee64a74de9549c89ec44e87fbf7fdd6",
       "version_major": 2,
       "version_minor": 0
      },
      "text/html": [
       "<p>Failed to display Jupyter Widget of type <code>HBox</code>.</p>\n",
       "<p>\n",
       "  If you're reading this message in Jupyter Notebook or JupyterLab, it may mean\n",
       "  that the widgets JavaScript is still loading. If this message persists, it\n",
       "  likely means that the widgets JavaScript library is either not installed or\n",
       "  not enabled. See the <a href=\"https://ipywidgets.readthedocs.io/en/stable/user_install.html\">Jupyter\n",
       "  Widgets Documentation</a> for setup instructions.\n",
       "</p>\n",
       "<p>\n",
       "  If you're reading this message in another notebook frontend (for example, a static\n",
       "  rendering on GitHub or <a href=\"https://nbviewer.jupyter.org/\">NBViewer</a>),\n",
       "  it may mean that your frontend doesn't currently support widgets.\n",
       "</p>\n"
      ],
      "text/plain": [
       "HBox(children=(IntProgress(value=0, description='Epoch 6', max=42371), HTML(value='')))"
      ]
     },
     "metadata": {},
     "output_type": "display_data"
    },
    {
     "data": {
      "application/vnd.jupyter.widget-view+json": {
       "model_id": "3eb841cd6d7949c49f9941c6f1f7dfd8",
       "version_major": 2,
       "version_minor": 0
      },
      "text/html": [
       "<p>Failed to display Jupyter Widget of type <code>HBox</code>.</p>\n",
       "<p>\n",
       "  If you're reading this message in Jupyter Notebook or JupyterLab, it may mean\n",
       "  that the widgets JavaScript is still loading. If this message persists, it\n",
       "  likely means that the widgets JavaScript library is either not installed or\n",
       "  not enabled. See the <a href=\"https://ipywidgets.readthedocs.io/en/stable/user_install.html\">Jupyter\n",
       "  Widgets Documentation</a> for setup instructions.\n",
       "</p>\n",
       "<p>\n",
       "  If you're reading this message in another notebook frontend (for example, a static\n",
       "  rendering on GitHub or <a href=\"https://nbviewer.jupyter.org/\">NBViewer</a>),\n",
       "  it may mean that your frontend doesn't currently support widgets.\n",
       "</p>\n"
      ],
      "text/plain": [
       "HBox(children=(IntProgress(value=0, description='Epoch 7', max=42371), HTML(value='')))"
      ]
     },
     "metadata": {},
     "output_type": "display_data"
    },
    {
     "data": {
      "application/vnd.jupyter.widget-view+json": {
       "model_id": "1b1e07af35cc43bfae564b981f4e1d0f",
       "version_major": 2,
       "version_minor": 0
      },
      "text/html": [
       "<p>Failed to display Jupyter Widget of type <code>HBox</code>.</p>\n",
       "<p>\n",
       "  If you're reading this message in Jupyter Notebook or JupyterLab, it may mean\n",
       "  that the widgets JavaScript is still loading. If this message persists, it\n",
       "  likely means that the widgets JavaScript library is either not installed or\n",
       "  not enabled. See the <a href=\"https://ipywidgets.readthedocs.io/en/stable/user_install.html\">Jupyter\n",
       "  Widgets Documentation</a> for setup instructions.\n",
       "</p>\n",
       "<p>\n",
       "  If you're reading this message in another notebook frontend (for example, a static\n",
       "  rendering on GitHub or <a href=\"https://nbviewer.jupyter.org/\">NBViewer</a>),\n",
       "  it may mean that your frontend doesn't currently support widgets.\n",
       "</p>\n"
      ],
      "text/plain": [
       "HBox(children=(IntProgress(value=0, description='Epoch 8', max=42371), HTML(value='')))"
      ]
     },
     "metadata": {},
     "output_type": "display_data"
    },
    {
     "data": {
      "application/vnd.jupyter.widget-view+json": {
       "model_id": "2fd5cb92a9ac4e74b733e1314d3e28b7",
       "version_major": 2,
       "version_minor": 0
      },
      "text/html": [
       "<p>Failed to display Jupyter Widget of type <code>HBox</code>.</p>\n",
       "<p>\n",
       "  If you're reading this message in Jupyter Notebook or JupyterLab, it may mean\n",
       "  that the widgets JavaScript is still loading. If this message persists, it\n",
       "  likely means that the widgets JavaScript library is either not installed or\n",
       "  not enabled. See the <a href=\"https://ipywidgets.readthedocs.io/en/stable/user_install.html\">Jupyter\n",
       "  Widgets Documentation</a> for setup instructions.\n",
       "</p>\n",
       "<p>\n",
       "  If you're reading this message in another notebook frontend (for example, a static\n",
       "  rendering on GitHub or <a href=\"https://nbviewer.jupyter.org/\">NBViewer</a>),\n",
       "  it may mean that your frontend doesn't currently support widgets.\n",
       "</p>\n"
      ],
      "text/plain": [
       "HBox(children=(IntProgress(value=0, description='Epoch 9', max=42371), HTML(value='')))"
      ]
     },
     "metadata": {},
     "output_type": "display_data"
    },
    {
     "name": "stdout",
     "output_type": "stream",
     "text": [
      "\n"
     ]
    }
   ],
   "source": [
    "history = model2.fit(\n",
    "    [data['train']['text']],\n",
    "    keras.utils.to_categorical(data['train']['y'],3),\n",
    "    epochs=10,\n",
    "    verbose=0,\n",
    "    callbacks=[\n",
    "        TQDMNotebookCallback(\n",
    "            leave_inner=True,\n",
    "        )\n",
    "    ],\n",
    "    validation_data=(\n",
    "        [data['val']['text']],\n",
    "        keras.utils.to_categorical(data['val']['y'],3)\n",
    "    ),\n",
    "    batch_size=128\n",
    ")"
   ]
  },
  {
   "cell_type": "code",
   "execution_count": 100,
   "metadata": {},
   "outputs": [
    {
     "data": {
      "image/png": "[encoded data removed]",
      "text/plain": [
       "<matplotlib.figure.Figure at 0x7faefbd27ba8>"
      ]
     },
     "metadata": {},
     "output_type": "display_data"
    }
   ],
   "source": [
    "import matplotlib.pyplot as plt\n",
    "\n",
    "plt.plot(history.epoch,history.history['loss'],history.epoch,history.history['val_loss'])\n",
    "plt.show()\n",
    "_=_"
   ]
  },
  {
   "cell_type": "code",
   "execution_count": 101,
   "metadata": {},
   "outputs": [
    {
     "name": "stdout",
     "output_type": "stream",
     "text": [
      "Accuracy score on 471 test samples: 0.728238\n"
     ]
    }
   ],
   "source": [
    "from sklearn.metrics import accuracy_score\n",
    "h = model2.predict([data['test']['text']])\n",
    "predict = np.asarray([np.argmax(i) for i in h])\n",
    "gold = np.asarray(data['test']['y'])\n",
    "resultf1 = accuracy_score(gold, predict)\n",
    "print('Accuracy score on {} test samples: {:.6}'.format(\n",
    "    len(predict), resultf1\n",
    "))"
   ]
  },
  {
   "cell_type": "raw",
   "metadata": {},
   "source": [
    "# # Analysing with LSTM"
   ]
  },
  {
   "cell_type": "code",
   "execution_count": 59,
   "metadata": {},
   "outputs": [],
   "source": [
    "from keras.layers import Input, Dense, GlobalMaxPooling1D, Bidirectional, LSTM\n",
    "from keras.models import Model\n",
    "\n",
    "\n",
    "class BaselineModel3(keras.models.Model):\n",
    "    \n",
    "    def __init__(self):\n",
    "        input_layer = layers.Input(\n",
    "            shape=(MAX_SEQUENCE_LENGTH,),\n",
    "            name='Input'\n",
    "        )\n",
    "        print(input_layer.shape)\n",
    "        embedding_layer = layers.Embedding(len(vocabulary) + 1,\n",
    "                            EMBEDDING_DIM,\n",
    "                            weights=[embedding_matrix],\n",
    "                            name='Embedding',\n",
    "                            trainable=False)(input_layer)\n",
    "        print(embedding_layer.shape)\n",
    "        drop1 = Dropout(0.5)(embedding_layer)\n",
    "        bi_lay = Bidirectional(LSTM(200, return_sequences=False))(drop1)\n",
    "        drop2 = Dropout(0.5)(bi_lay)\n",
    "        print(drop2.shape)\n",
    "        f_con = Dense(30, activation=\"sigmoid\")(drop2)\n",
    "        drop3 = Dropout(0.5)(f_con)\n",
    "        print(drop3.shape)\n",
    "        predictions = Dense(3, activation='softmax')(drop3)\n",
    "        \n",
    "        super().__init__(inputs=[input_layer], outputs=predictions)\n",
    "        \n",
    "    def compile(self):\n",
    "        return super().compile(\n",
    "            optimizer=keras.optimizers.Adam(lr=0.001),\n",
    "            loss='mse'\n",
    "        )"
   ]
  },
  {
   "cell_type": "code",
   "execution_count": 60,
   "metadata": {},
   "outputs": [
    {
     "name": "stdout",
     "output_type": "stream",
     "text": [
      "(?, 200)\n",
      "(?, 200, 100)\n",
      "(?, ?, 400)\n",
      "(?, 200, 30)\n"
     ]
    }
   ],
   "source": [
    "model3 = BaselineModel3()\n",
    "model3.compile()"
   ]
  },
  {
   "cell_type": "code",
   "execution_count": 63,
   "metadata": {},
   "outputs": [
    {
     "name": "stdout",
     "output_type": "stream",
     "text": [
      "(42371, 200)\n"
     ]
    }
   ],
   "source": [
    "print(data['train']['text'].shape)"
   ]
  },
  {
   "cell_type": "code",
   "execution_count": 61,
   "metadata": {},
   "outputs": [],
   "source": [
    "#display.display(display.Image(keras.utils.vis_utils.model_to_dot(model3, show_shapes=True).create_png()))"
   ]
  },
  {
   "cell_type": "code",
   "execution_count": 62,
   "metadata": {},
   "outputs": [
    {
     "ename": "ValueError",
     "evalue": "Error when checking target: expected dense_11 to have 3 dimensions, but got array with shape (42371, 3)",
     "output_type": "error",
     "traceback": [
      "\u001b[0;31m---------------------------------------------------------------------------\u001b[0m",
      "\u001b[0;31mValueError\u001b[0m                                Traceback (most recent call last)",
      "\u001b[0;32m<ipython-input-62-fe159a32beb7>\u001b[0m in \u001b[0;36m<module>\u001b[0;34m()\u001b[0m\n\u001b[1;32m      6\u001b[0m         \u001b[0mkeras\u001b[0m\u001b[0;34m.\u001b[0m\u001b[0mutils\u001b[0m\u001b[0;34m.\u001b[0m\u001b[0mto_categorical\u001b[0m\u001b[0;34m(\u001b[0m\u001b[0mdata\u001b[0m\u001b[0;34m[\u001b[0m\u001b[0;34m'val'\u001b[0m\u001b[0;34m]\u001b[0m\u001b[0;34m[\u001b[0m\u001b[0;34m'y'\u001b[0m\u001b[0;34m]\u001b[0m\u001b[0;34m,\u001b[0m\u001b[0;36m3\u001b[0m\u001b[0;34m)\u001b[0m\u001b[0;34m\u001b[0m\u001b[0m\n\u001b[1;32m      7\u001b[0m     ),\n\u001b[0;32m----> 8\u001b[0;31m     \u001b[0mbatch_size\u001b[0m\u001b[0;34m=\u001b[0m\u001b[0;36m32\u001b[0m\u001b[0;34m\u001b[0m\u001b[0m\n\u001b[0m\u001b[1;32m      9\u001b[0m )\n",
      "\u001b[0;32m/usr/local/lib/python3.5/dist-packages/keras/engine/training.py\u001b[0m in \u001b[0;36mfit\u001b[0;34m(self, x, y, batch_size, epochs, verbose, callbacks, validation_split, validation_data, shuffle, class_weight, sample_weight, initial_epoch, steps_per_epoch, validation_steps, **kwargs)\u001b[0m\n\u001b[1;32m   1572\u001b[0m             \u001b[0mclass_weight\u001b[0m\u001b[0;34m=\u001b[0m\u001b[0mclass_weight\u001b[0m\u001b[0;34m,\u001b[0m\u001b[0;34m\u001b[0m\u001b[0m\n\u001b[1;32m   1573\u001b[0m             \u001b[0mcheck_batch_axis\u001b[0m\u001b[0;34m=\u001b[0m\u001b[0;32mFalse\u001b[0m\u001b[0;34m,\u001b[0m\u001b[0;34m\u001b[0m\u001b[0m\n\u001b[0;32m-> 1574\u001b[0;31m             batch_size=batch_size)\n\u001b[0m\u001b[1;32m   1575\u001b[0m         \u001b[0;31m# Prepare validation data.\u001b[0m\u001b[0;34m\u001b[0m\u001b[0;34m\u001b[0m\u001b[0m\n\u001b[1;32m   1576\u001b[0m         \u001b[0mdo_validation\u001b[0m \u001b[0;34m=\u001b[0m \u001b[0;32mFalse\u001b[0m\u001b[0;34m\u001b[0m\u001b[0m\n",
      "\u001b[0;32m/usr/local/lib/python3.5/dist-packages/keras/engine/training.py\u001b[0m in \u001b[0;36m_standardize_user_data\u001b[0;34m(self, x, y, sample_weight, class_weight, check_batch_axis, batch_size)\u001b[0m\n\u001b[1;32m   1409\u001b[0m                                     \u001b[0moutput_shapes\u001b[0m\u001b[0;34m,\u001b[0m\u001b[0;34m\u001b[0m\u001b[0m\n\u001b[1;32m   1410\u001b[0m                                     \u001b[0mcheck_batch_axis\u001b[0m\u001b[0;34m=\u001b[0m\u001b[0;32mFalse\u001b[0m\u001b[0;34m,\u001b[0m\u001b[0;34m\u001b[0m\u001b[0m\n\u001b[0;32m-> 1411\u001b[0;31m                                     exception_prefix='target')\n\u001b[0m\u001b[1;32m   1412\u001b[0m         sample_weights = _standardize_sample_weights(sample_weight,\n\u001b[1;32m   1413\u001b[0m                                                      self._feed_output_names)\n",
      "\u001b[0;32m/usr/local/lib/python3.5/dist-packages/keras/engine/training.py\u001b[0m in \u001b[0;36m_standardize_input_data\u001b[0;34m(data, names, shapes, check_batch_axis, exception_prefix)\u001b[0m\n\u001b[1;32m    139\u001b[0m                                  \u001b[0;34m' to have '\u001b[0m \u001b[0;34m+\u001b[0m \u001b[0mstr\u001b[0m\u001b[0;34m(\u001b[0m\u001b[0mlen\u001b[0m\u001b[0;34m(\u001b[0m\u001b[0mshapes\u001b[0m\u001b[0;34m[\u001b[0m\u001b[0mi\u001b[0m\u001b[0;34m]\u001b[0m\u001b[0;34m)\u001b[0m\u001b[0;34m)\u001b[0m \u001b[0;34m+\u001b[0m\u001b[0;34m\u001b[0m\u001b[0m\n\u001b[1;32m    140\u001b[0m                                  \u001b[0;34m' dimensions, but got array with shape '\u001b[0m \u001b[0;34m+\u001b[0m\u001b[0;34m\u001b[0m\u001b[0m\n\u001b[0;32m--> 141\u001b[0;31m                                  str(array.shape))\n\u001b[0m\u001b[1;32m    142\u001b[0m             \u001b[0;32mfor\u001b[0m \u001b[0mj\u001b[0m\u001b[0;34m,\u001b[0m \u001b[0;34m(\u001b[0m\u001b[0mdim\u001b[0m\u001b[0;34m,\u001b[0m \u001b[0mref_dim\u001b[0m\u001b[0;34m)\u001b[0m \u001b[0;32min\u001b[0m \u001b[0menumerate\u001b[0m\u001b[0;34m(\u001b[0m\u001b[0mzip\u001b[0m\u001b[0;34m(\u001b[0m\u001b[0marray\u001b[0m\u001b[0;34m.\u001b[0m\u001b[0mshape\u001b[0m\u001b[0;34m,\u001b[0m \u001b[0mshapes\u001b[0m\u001b[0;34m[\u001b[0m\u001b[0mi\u001b[0m\u001b[0;34m]\u001b[0m\u001b[0;34m)\u001b[0m\u001b[0;34m)\u001b[0m\u001b[0;34m:\u001b[0m\u001b[0;34m\u001b[0m\u001b[0m\n\u001b[1;32m    143\u001b[0m                 \u001b[0;32mif\u001b[0m \u001b[0;32mnot\u001b[0m \u001b[0mj\u001b[0m \u001b[0;32mand\u001b[0m \u001b[0;32mnot\u001b[0m \u001b[0mcheck_batch_axis\u001b[0m\u001b[0;34m:\u001b[0m\u001b[0;34m\u001b[0m\u001b[0m\n",
      "\u001b[0;31mValueError\u001b[0m: Error when checking target: expected dense_11 to have 3 dimensions, but got array with shape (42371, 3)"
     ]
    }
   ],
   "source": [
    "history = model3.fit([data['train']['text'].reshape()],keras.utils.to_categorical(data['train']['y'],3),\n",
    "                     epochs=10,verbose=0,callbacks=[TQDMNotebookCallback(leave_inner=True,)\n",
    "    ],\n",
    "    validation_data=(\n",
    "        [data['val']['text']],\n",
    "        keras.utils.to_categorical(data['val']['y'],3)\n",
    "    ),\n",
    "    batch_size=32\n",
    ")"
   ]
  },
  {
   "cell_type": "code",
   "execution_count": null,
   "metadata": {},
   "outputs": [],
   "source": [
    "import matplotlib.pyplot as plt\n",
    "\n",
    "plt.plot(history.epoch,history.history['loss'],history.epoch,history.history['val_loss'])\n",
    "plt.show()\n",
    "_=_"
   ]
  },
  {
   "cell_type": "code",
   "execution_count": null,
   "metadata": {},
   "outputs": [],
   "source": [
    "from sklearn.metrics import accuracy_score\n",
    "h = model2.predict([data['test']['text']])\n",
    "predict = np.asarray([np.argmax(i) for i in h])\n",
    "gold = np.asarray(data['test']['y'])\n",
    "resultf1 = accuracy_score(gold, predict)\n",
    "print('Accuracy score on {} test samples: {:.6}'.format(\n",
    "    len(predict), resultf1\n",
    "))"
   ]
  },
  {
   "cell_type": "code",
   "execution_count": 26,
   "metadata": {},
   "outputs": [
    {
     "name": "stdout",
     "output_type": "stream",
     "text": [
      "[0.9595083  0.26233734 0.30014796]\n",
      "[[0.95685904]\n",
      " [0.90399242]\n",
      " [0.78772734]\n",
      " [0.52574663]]\n",
      "[[0.5834513  0.14647375 0.14317278]\n",
      " [0.05805849 0.22996969 0.32466572]]\n"
     ]
    }
   ],
   "source": [
    "\n",
    "import numpy as np\n",
    "a= np.random.rand(8,6)\n",
    "b=np.random.rand(3,)\n",
    "c=np.random.rand(4,1)\n",
    "#print((a+b).shape) \n",
    "print(b)\n",
    "print(c)\n",
    "print(a[:2,1:4])"
   ]
  },
  {
   "cell_type": "code",
   "execution_count": null,
   "metadata": {},
   "outputs": [],
   "source": []
  }
 ],
 "metadata": {
  "kernelspec": {
   "display_name": "Python 3",
   "language": "python",
   "name": "python3"
  },
  "language_info": {
   "codemirror_mode": {
    "name": "ipython",
    "version": 3
   },
   "file_extension": ".py",
   "mimetype": "text/x-python",
   "name": "python",
   "nbconvert_exporter": "python",
   "pygments_lexer": "ipython3",
   "version": "3.6.4"
  },
  "toc": {
   "nav_menu": {},
   "number_sections": true,
   "sideBar": true,
   "skip_h1_title": false,
   "toc_cell": false,
   "toc_position": {},
   "toc_section_display": "block",
   "toc_window_display": true
  },
  "varInspector": {
   "cols": {
    "lenName": 16,
    "lenType": 16,
    "lenVar": 40
   },
   "kernels_config": {
    "python": {
     "delete_cmd_postfix": "",
     "delete_cmd_prefix": "del ",
     "library": "var_list.py",
     "varRefreshCmd": "print(var_dic_list())"
    },
    "r": {
     "delete_cmd_postfix": ") ",
     "delete_cmd_prefix": "rm(",
     "library": "var_list.r",
     "varRefreshCmd": "cat(var_dic_list()) "
    }
   },
   "position": {
    "height": "663px",
    "left": "1713.33px",
    "right": "20px",
    "top": "120px",
    "width": "350px"
   },
   "types_to_exclude": [
    "module",
    "function",
    "builtin_function_or_method",
    "instance",
    "_Feature"
   ],
   "window_display": true
  }
 },
 "nbformat": 4,
 "nbformat_minor": 2
}
